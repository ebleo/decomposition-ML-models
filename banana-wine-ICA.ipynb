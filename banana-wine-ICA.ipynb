{
 "cells": [
  {
   "cell_type": "markdown",
   "metadata": {},
   "source": [
    "# Separation and Classification of Banana and Wine Radiation/Emissions\n",
    "[Data Source](http://archive.ics.uci.edu/ml/datasets/gas+sensors+for+home+activity+monitoring)\n",
    "***\n",
    "Goals:\n",
    "- separate mixed signals\n",
    "- classify individual signals as banana or wine (differentiate stimuli)"
   ]
  },
  {
   "cell_type": "code",
   "execution_count": 2,
   "metadata": {
    "collapsed": true
   },
   "outputs": [],
   "source": [
    "%matplotlib inline\n",
    "\n",
    "import pandas as pd\n",
    "import numpy as np\n",
    "import matplotlib as np\n",
    "from sklearn.decomposition import FastICA"
   ]
  },
  {
   "cell_type": "markdown",
   "metadata": {},
   "source": [
    "## Problem: cols of r1-r8 being made as one col\n",
    "\n",
    "Data source has description on [how to extract data and features](https://github.com/thmosqueiro/ENose-Decorr_Humdt_Temp)\n",
    "\n",
    "Scrapping following code for above reason\n",
    "```python\n",
    "locpath = 'data/HT_Sensor_dataset.dat'\n",
    "df = pd.read_csv(locpath)\n",
    "\n",
    "df.head()\n",
    "dfcols = df.columns\n",
    "\n",
    "df.iloc[0,df.columns[1]]\n",
    "```\n",
    "\n",
    "Looking at columns returns following:\n",
    "```python\n",
    ">>> df.columns\n",
    "\n",
    "Index(['id time\\t      R1         R2         R3         R4         R5         R6         R7        R8        Temp.      Humidity'], dtype='object')\n",
    "```"
   ]
  },
  {
   "cell_type": "markdown",
   "metadata": {},
   "source": [
    "Below taken from github repo from researchers"
   ]
  },
  {
   "cell_type": "code",
   "execution_count": 4,
   "metadata": {},
   "outputs": [],
   "source": [
    "## Importing dataset\n",
    "metadata = np.loadtxt('data/HT_Sensor_metadata.dat', skiprows=1, dtype=str)\n",
    "\n",
    "## Loading the dataset\n",
    "dataset = np.loadtxt('data/HT_Sensor_dataset.dat', skiprows=1)"
   ]
  }
 ],
 "metadata": {
  "anaconda-cloud": {},
  "kernelspec": {
   "display_name": "Python [default]",
   "language": "python",
   "name": "python3"
  },
  "language_info": {
   "codemirror_mode": {
    "name": "ipython",
    "version": 3
   },
   "file_extension": ".py",
   "mimetype": "text/x-python",
   "name": "python",
   "nbconvert_exporter": "python",
   "pygments_lexer": "ipython3",
   "version": "3.5.2"
  }
 },
 "nbformat": 4,
 "nbformat_minor": 2
}
